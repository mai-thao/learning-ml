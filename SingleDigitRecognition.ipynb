{
 "cells": [
  {
   "cell_type": "code",
   "execution_count": 1,
   "id": "b44b4936-7787-40da-bf7a-32d985b53dbb",
   "metadata": {},
   "outputs": [],
   "source": [
    "import numpy as np\n",
    "import matplotlib.pyplot as plt\n",
    "from tensorflow.keras.datasets import mnist"
   ]
  },
  {
   "cell_type": "code",
   "execution_count": 2,
   "id": "9a82b65c-7609-4bde-a042-26d96eb0b9ae",
   "metadata": {},
   "outputs": [
    {
     "name": "stdout",
     "output_type": "stream",
     "text": [
      "Downloading data from https://storage.googleapis.com/tensorflow/tf-keras-datasets/mnist.npz\n",
      "\u001b[1m11490434/11490434\u001b[0m \u001b[32m━━━━━━━━━━━━━━━━━━━━\u001b[0m\u001b[37m\u001b[0m \u001b[1m0s\u001b[0m 0us/step\n"
     ]
    }
   ],
   "source": [
    "# Load the dataset\n",
    "(train_images, train_labels), (test_images, test_labels) = mnist.load_data()"
   ]
  },
  {
   "cell_type": "code",
   "execution_count": 3,
   "id": "38d8c524-b799-4fd1-93a3-c4baf0dde06a",
   "metadata": {},
   "outputs": [
    {
     "name": "stdout",
     "output_type": "stream",
     "text": [
      "Training data shape: (60000, 28, 28), Training labels shape: (60000,)\n",
      "Testing data shape: (10000, 28, 28), Testing labels shape: (10000,)\n"
     ]
    }
   ],
   "source": [
    "# Print the shape of the data\n",
    "print(f\"Training data shape: {train_images.shape}, Training labels shape: {train_labels.shape}\")\n",
    "print(f\"Testing data shape: {test_images.shape}, Testing labels shape: {test_labels.shape}\")"
   ]
  },
  {
   "cell_type": "code",
   "execution_count": 4,
   "id": "cc5a00c2-48d0-4947-85ea-449329737c74",
   "metadata": {},
   "outputs": [
    {
     "data": {
      "image/png": "[encoded data removed]",
      "text/plain": [
       "<Figure size 640x480 with 1 Axes>"
      ]
     },
     "metadata": {},
     "output_type": "display_data"
    }
   ],
   "source": [
    "# Display the first image in the training set\n",
    "plt.imshow(train_images[0], cmap='gray')\n",
    "plt.title(f\"Label: {train_labels[0]}\")\n",
    "plt.show()"
   ]
  },
  {
   "cell_type": "markdown",
   "id": "61d1205d-88bb-4a81-ba70-93f56c5ffcd9",
   "metadata": {},
   "source": [
    "Step 2: Preprocess the Data"
   ]
  },
  {
   "cell_type": "code",
   "execution_count": 5,
   "id": "eb513006-08e8-44a0-86de-cc8cc6a3a920",
   "metadata": {},
   "outputs": [],
   "source": [
    "# Normalize the images to a range of 0 to 1\n",
    "train_images = train_images / 255.0\n",
    "test_images = test_images / 255.0"
   ]
  },
  {
   "cell_type": "code",
   "execution_count": 6,
   "id": "69647267-2121-4e23-a4e3-79c4f43e5226",
   "metadata": {},
   "outputs": [],
   "source": [
    "# Reshape for a fully connected network\n",
    "train_images = train_images.reshape((60000, 28 * 28))\n",
    "test_images = test_images.reshape((10000, 28 * 28))"
   ]
  },
  {
   "cell_type": "markdown",
   "id": "85d0df4f-cff6-477f-a9a2-a847ffef5e0d",
   "metadata": {},
   "source": [
    "Step 3: Build my model"
   ]
  },
  {
   "cell_type": "code",
   "execution_count": 8,
   "id": "7a857940-29a5-4878-b80e-bb06ef38ba4f",
   "metadata": {},
   "outputs": [],
   "source": [
    "from tensorflow.keras.models import Sequential\n",
    "from tensorflow.keras.layers import Input, Dense\n",
    "\n",
    "# Create the model\n",
    "model = Sequential([\n",
    "    Input(shape=(28 * 28,)),\n",
    "    Dense(512, activation='relu'),\n",
    "    Dense(10, activation='softmax')\n",
    "])\n",
    "\n",
    "# Compile the model\n",
    "model.compile(optimizer='adam',\n",
    "              loss='sparse_categorical_crossentropy',\n",
    "              metrics=['accuracy'])\n"
   ]
  },
  {
   "cell_type": "code",
   "execution_count": 9,
   "id": "34382b0f-68e7-46ce-b283-315830da2831",
   "metadata": {},
   "outputs": [
    {
     "name": "stdout",
     "output_type": "stream",
     "text": [
      "Epoch 1/5\n",
      "\u001b[1m1875/1875\u001b[0m \u001b[32m━━━━━━━━━━━━━━━━━━━━\u001b[0m\u001b[37m\u001b[0m \u001b[1m2s\u001b[0m 1ms/step - accuracy: 0.8970 - loss: 0.3444 - val_accuracy: 0.9705 - val_loss: 0.0962\n",
      "Epoch 2/5\n",
      "\u001b[1m1875/1875\u001b[0m \u001b[32m━━━━━━━━━━━━━━━━━━━━\u001b[0m\u001b[37m\u001b[0m \u001b[1m2s\u001b[0m 1ms/step - accuracy: 0.9740 - loss: 0.0855 - val_accuracy: 0.9742 - val_loss: 0.0819\n",
      "Epoch 3/5\n",
      "\u001b[1m1875/1875\u001b[0m \u001b[32m━━━━━━━━━━━━━━━━━━━━\u001b[0m\u001b[37m\u001b[0m \u001b[1m2s\u001b[0m 1ms/step - accuracy: 0.9840 - loss: 0.0527 - val_accuracy: 0.9780 - val_loss: 0.0717\n",
      "Epoch 4/5\n",
      "\u001b[1m1875/1875\u001b[0m \u001b[32m━━━━━━━━━━━━━━━━━━━━\u001b[0m\u001b[37m\u001b[0m \u001b[1m2s\u001b[0m 1ms/step - accuracy: 0.9894 - loss: 0.0320 - val_accuracy: 0.9789 - val_loss: 0.0678\n",
      "Epoch 5/5\n",
      "\u001b[1m1875/1875\u001b[0m \u001b[32m━━━━━━━━━━━━━━━━━━━━\u001b[0m\u001b[37m\u001b[0m \u001b[1m2s\u001b[0m 1ms/step - accuracy: 0.9920 - loss: 0.0251 - val_accuracy: 0.9818 - val_loss: 0.0675\n"
     ]
    },
    {
     "data": {
      "text/plain": [
       "<keras.src.callbacks.history.History at 0x18b6b98dbe0>"
      ]
     },
     "execution_count": 9,
     "metadata": {},
     "output_type": "execute_result"
    }
   ],
   "source": [
    "# Train the model\n",
    "model.fit(train_images, train_labels, epochs=5, batch_size=32, validation_data=(test_images, test_labels))"
   ]
  },
  {
   "cell_type": "code",
   "execution_count": 10,
   "id": "ec7c669a-be5e-4076-a8af-66cd648ec561",
   "metadata": {},
   "outputs": [
    {
     "name": "stdout",
     "output_type": "stream",
     "text": [
      "\u001b[1m313/313\u001b[0m \u001b[32m━━━━━━━━━━━━━━━━━━━━\u001b[0m\u001b[37m\u001b[0m \u001b[1m0s\u001b[0m 558us/step - accuracy: 0.9780 - loss: 0.0822\n",
      "Test accuracy: 0.9818000197410583\n"
     ]
    }
   ],
   "source": [
    "# Evaluate the model\n",
    "test_loss, test_acc = model.evaluate(test_images, test_labels)\n",
    "print(f\"Test accuracy: {test_acc}\")"
   ]
  },
  {
   "cell_type": "code",
   "execution_count": 12,
   "id": "c94ff575-6ec2-4b7c-b77a-89c04ee1e945",
   "metadata": {},
   "outputs": [],
   "source": [
    "model.save('mnist_model.keras')"
   ]
  },
  {
   "cell_type": "code",
   "execution_count": 20,
   "id": "e23a7818-8b0f-4e7a-bc63-962af64a992c",
   "metadata": {},
   "outputs": [],
   "source": [
    "from tensorflow.keras.models import load_model\n",
    "\n",
    "model = load_model('mnist_model.keras')"
   ]
  },
  {
   "cell_type": "code",
   "execution_count": 34,
   "id": "bf5a575a-1729-405c-990b-8c8134bd5bb8",
   "metadata": {},
   "outputs": [],
   "source": [
    "import numpy as np\n",
    "from PIL import Image\n",
    "\n",
    "# Load the image\n",
    "image = Image.open('img_103.jpg')\n",
    "\n",
    "# Resize the image to 28x28 pixels\n",
    "image = image.resize((28, 28))\n",
    "\n",
    "# Convert the image to grayscale (if necessary)\n",
    "image = image.convert('L')\n",
    "\n",
    "# Convert the image to a numpy array\n",
    "image_array = np.array(image)\n",
    "\n",
    "# Flatten the image\n",
    "input_image = image_array.flatten()\n",
    "\n",
    "# Normalize the pixel values\n",
    "input_image = input_image / 255.0\n",
    "\n",
    "# Reshape the input image to match the model's input shape\n",
    "input_image = input_image.reshape(1, 28 * 28)\n",
    "\n",
    "# Now, input_image is preprocessed and ready to be fed into your model for inference"
   ]
  },
  {
   "cell_type": "code",
   "execution_count": 35,
   "id": "5454a849-c2b8-4f05-93af-1126c05035f4",
   "metadata": {},
   "outputs": [
    {
     "name": "stdout",
     "output_type": "stream",
     "text": [
      "\u001b[1m1/1\u001b[0m \u001b[32m━━━━━━━━━━━━━━━━━━━━\u001b[0m\u001b[37m\u001b[0m \u001b[1m0s\u001b[0m 12ms/step\n"
     ]
    }
   ],
   "source": [
    "# Assuming `input_image` is the preprocessed image\n",
    "predictions = model.predict(input_image)"
   ]
  },
  {
   "cell_type": "code",
   "execution_count": 36,
   "id": "e184b85b-6071-42dc-9fce-d97eb87f180a",
   "metadata": {},
   "outputs": [],
   "source": [
    "predicted_digit = np.argmax(predictions)"
   ]
  },
  {
   "cell_type": "code",
   "execution_count": 37,
   "id": "01efc04a-b39a-43d2-b2e6-1e653de8fbc8",
   "metadata": {},
   "outputs": [
    {
     "data": {
      "image/png": "[encoded data removed]",
      "text/plain": [
       "<Figure size 640x480 with 1 Axes>"
      ]
     },
     "metadata": {},
     "output_type": "display_data"
    }
   ],
   "source": [
    "plt.imshow(input_image.reshape(28, 28), cmap='gray')\n",
    "plt.title(f\"Predicted Digit: {predicted_digit}\")\n",
    "plt.show()"
   ]
  },
  {
   "cell_type": "code",
   "execution_count": null,
   "id": "79a361d4-9f1b-423a-af6e-7c18c79c8000",
   "metadata": {},
   "outputs": [],
   "source": []
  }
 ],
 "metadata": {
  "kernelspec": {
   "display_name": "Python 3 (ipykernel)",
   "language": "python",
   "name": "python3"
  },
  "language_info": {
   "codemirror_mode": {
    "name": "ipython",
    "version": 3
   },
   "file_extension": ".py",
   "mimetype": "text/x-python",
   "name": "python",
   "nbconvert_exporter": "python",
   "pygments_lexer": "ipython3",
   "version": "3.12.3"
  }
 },
 "nbformat": 4,
 "nbformat_minor": 5
}
